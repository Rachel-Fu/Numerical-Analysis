{
 "cells": [
  {
   "cell_type": "code",
   "execution_count": 3,
   "metadata": {},
   "outputs": [],
   "source": [
    "import math\n",
    "import numpy as np\n",
    "def f1(x):\n",
    "    return(math.sin(x)/x)\n",
    "def f2(x):\n",
    "    return(1/math.log(x))\n",
    "def f3(x):\n",
    "    return(math.cos(x))"
   ]
  },
  {
   "cell_type": "code",
   "execution_count": 23,
   "metadata": {},
   "outputs": [],
   "source": [
    "#Romberg求积法\n",
    "def Rom(a,b,f,eps):\n",
    "    h=b-a\n",
    "    k=1\n",
    "    T=np.zeros(1000*1000).reshape(1000,1000)\n",
    "    T[0][0]=h/2*(f(a)+f(b))\n",
    "    T[1][0]=1/2*(T[0][0]+h*f(a+1/2*h))\n",
    "    T[0][1]=(4*T[1][0]-T[0][0])/(4-1)\n",
    "    while T[0][k]-T[0][k-1]>eps:\n",
    "        k+=1\n",
    "        h=h/2\n",
    "        t=0\n",
    "        for i in range (1,2**(k-1)+1):\n",
    "            t+=f(a+(i-1/2)*h)\n",
    "        T[k][0]=1/2*(T[k-1][0]+h*t)\n",
    "        for m in range (1,k+1):\n",
    "            T[k-m][m]=(4**m*T[k+1-m][m-1]-T[k-m][m-1])/(4**m-1)\n",
    "    return k,T[0][k]"
   ]
  },
  {
   "cell_type": "code",
   "execution_count": 24,
   "metadata": {},
   "outputs": [
    {
     "data": {
      "text/plain": [
       "(2, 0.6593298880175049)"
      ]
     },
     "execution_count": 24,
     "metadata": {},
     "output_type": "execute_result"
    },
    {
     "data": {
      "text/plain": [
       "(1, 1.1197268232108277)"
      ]
     },
     "execution_count": 24,
     "metadata": {},
     "output_type": "execute_result"
    },
    {
     "data": {
      "text/plain": [
       "(2, 0.9999915654729927)"
      ]
     },
     "execution_count": 24,
     "metadata": {},
     "output_type": "execute_result"
    }
   ],
   "source": [
    "Rom(1,2,f1,1e-8)\n",
    "Rom(2,3,f2,1e-8)\n",
    "Rom(0,math.pi/2,f3,1e-8)"
   ]
  },
  {
   "cell_type": "code",
   "execution_count": null,
   "metadata": {},
   "outputs": [],
   "source": []
  }
 ],
 "metadata": {
  "kernelspec": {
   "display_name": "Python 3",
   "language": "python",
   "name": "python3"
  },
  "language_info": {
   "codemirror_mode": {
    "name": "ipython",
    "version": 3
   },
   "file_extension": ".py",
   "mimetype": "text/x-python",
   "name": "python",
   "nbconvert_exporter": "python",
   "pygments_lexer": "ipython3",
   "version": "3.7.3"
  },
  "toc": {
   "base_numbering": 1,
   "nav_menu": {},
   "number_sections": true,
   "sideBar": true,
   "skip_h1_title": false,
   "title_cell": "Table of Contents",
   "title_sidebar": "Contents",
   "toc_cell": false,
   "toc_position": {},
   "toc_section_display": true,
   "toc_window_display": false
  }
 },
 "nbformat": 4,
 "nbformat_minor": 2
}
