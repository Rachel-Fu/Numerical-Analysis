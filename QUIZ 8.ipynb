{
 "cells": [
  {
   "cell_type": "code",
   "execution_count": 1,
   "metadata": {},
   "outputs": [],
   "source": [
    "import numpy as np\n",
    "import math"
   ]
  },
  {
   "cell_type": "code",
   "execution_count": 2,
   "metadata": {},
   "outputs": [],
   "source": [
    "def f(x):\n",
    "    f=math.pow(x,5)-18*math.pow(x,4)+122*math.pow(x,3)-380*math.pow(x,2)+525*x-250\n",
    "    return f"
   ]
  },
  {
   "cell_type": "code",
   "execution_count": 3,
   "metadata": {},
   "outputs": [],
   "source": [
    "def f_d(x):\n",
    "    f=5*math.pow(x,4)-18*4*math.pow(x,3)+122*3*math.pow(x,2)-380*2*x+525\n",
    "    return f"
   ]
  },
  {
   "cell_type": "code",
   "execution_count": 4,
   "metadata": {},
   "outputs": [],
   "source": [
    "def Newton(x0,eps1,eps2,elt,m):\n",
    "    f0=f(x0)\n",
    "    f0_d=f_d(x0)\n",
    "    k=0\n",
    "    while k<m:\n",
    "        x1=x0-f0/f0_d\n",
    "        f1=f(x1)\n",
    "        f1_d=f_d(x1)\n",
    "        if abs(f1)<eps1:\n",
    "            return x1,k\n",
    "        else:\n",
    "            if abs(x1)<elt:\n",
    "                if abs(x1-x0)<eps2:\n",
    "                    return x1,k\n",
    "                else:\n",
    "                    k+=1\n",
    "                    x0=x1\n",
    "                    f0=f1\n",
    "                    f0_d=f1_d\n",
    "            else:\n",
    "                if abs(x1-x0)/abs(x1)<eps2:\n",
    "                    return x1,k\n",
    "                else:\n",
    "                    k+=1\n",
    "                    x0=x1\n",
    "                    f0=f1\n",
    "                    f0_d=f1_d\n",
    "    print(\"计算失败\")"
   ]
  },
  {
   "cell_type": "code",
   "execution_count": 5,
   "metadata": {},
   "outputs": [],
   "source": [
    "def Steffensen(x0,eps1,eps2,elt,m):\n",
    "    f0=f(x0)\n",
    "    f0_t=f(x0+f0)\n",
    "    k=0\n",
    "    while k<m:\n",
    "        x1=x0-pow(f0,2)/(f0_t-f0)\n",
    "        f1=f(x1)\n",
    "        f1_t=f(x1+f1)\n",
    "        if abs(f1)<eps1:\n",
    "            return x1,k\n",
    "        else:\n",
    "            if abs(x1)<elt:\n",
    "                if abs(x1-x0)<eps2:\n",
    "                    return x1,k\n",
    "                else:\n",
    "                    k+=1\n",
    "                    x0=x1\n",
    "                    f0=f1\n",
    "                    f0_t=f1_t\n",
    "            else:\n",
    "                if abs(x1-x0)/abs(x1)<eps2:\n",
    "                    return x1,k\n",
    "                else:\n",
    "                    k+=1\n",
    "                    x0=x1\n",
    "                    f0=f1\n",
    "                    f0_t=f1_t\n",
    "    print(\"计算失败\")"
   ]
  },
  {
   "cell_type": "code",
   "execution_count": 6,
   "metadata": {},
   "outputs": [],
   "source": [
    "def String(x0,eps1,eps2,elt,m,x1):\n",
    "    f0=f(x0)\n",
    "    f1=f(x1)\n",
    "    k=0\n",
    "    while k<m:\n",
    "        x2=x1-(x1-x0)/(f1-f0)*f1\n",
    "        f2=f(x2)\n",
    "        if abs(f2)<eps1:\n",
    "            return x2,k\n",
    "        else:\n",
    "            if abs(x2)<elt:\n",
    "                if abs(x2-x1)<eps2:\n",
    "                    return x2,k\n",
    "                else:\n",
    "                    k+=1\n",
    "                    x0=x1\n",
    "                    x1=x2\n",
    "                    f0=f1\n",
    "                    f1=f2\n",
    "            else:\n",
    "                if abs(x2-x1)/abs(x2)<eps2:\n",
    "                    return x2,k\n",
    "                else:\n",
    "                    k+=1\n",
    "                    x0=x1\n",
    "                    x1=x2\n",
    "                    f0=f1\n",
    "                    f1=f2\n",
    "    print(\"计算失败\") "
   ]
  },
  {
   "cell_type": "code",
   "execution_count": 7,
   "metadata": {},
   "outputs": [
    {
     "data": {
      "text/plain": [
       "(0.9999999999999998, 5)"
      ]
     },
     "execution_count": 7,
     "metadata": {},
     "output_type": "execute_result"
    },
    {
     "data": {
      "text/plain": [
       "(1.0, 113)"
      ]
     },
     "execution_count": 7,
     "metadata": {},
     "output_type": "execute_result"
    },
    {
     "data": {
      "text/plain": [
       "(4.999246052191019, 19)"
      ]
     },
     "execution_count": 7,
     "metadata": {},
     "output_type": "execute_result"
    }
   ],
   "source": [
    "#代入数据\n",
    "Newton(0.5,1e-8,1e-8,1e-10,1e5)\n",
    "Steffensen(1.5,1e-8,1e-8,1e-10,1e5)\n",
    "String(5.5,1e-8,1e-8,1e-10,1e5,4.5)"
   ]
  }
 ],
 "metadata": {
  "kernelspec": {
   "display_name": "Python 3",
   "language": "python",
   "name": "python3"
  },
  "language_info": {
   "codemirror_mode": {
    "name": "ipython",
    "version": 3
   },
   "file_extension": ".py",
   "mimetype": "text/x-python",
   "name": "python",
   "nbconvert_exporter": "python",
   "pygments_lexer": "ipython3",
   "version": "3.7.3"
  },
  "toc": {
   "base_numbering": 1,
   "nav_menu": {},
   "number_sections": true,
   "sideBar": true,
   "skip_h1_title": false,
   "title_cell": "Table of Contents",
   "title_sidebar": "Contents",
   "toc_cell": false,
   "toc_position": {},
   "toc_section_display": true,
   "toc_window_display": false
  }
 },
 "nbformat": 4,
 "nbformat_minor": 2
}
