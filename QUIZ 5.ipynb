{
 "cells": [
  {
   "cell_type": "code",
   "execution_count": 1,
   "metadata": {},
   "outputs": [],
   "source": [
    "import math\n",
    "def f1(x):\n",
    "    return(math.sin(x)/x)\n",
    "def f2(x):\n",
    "    return(1/math.log(x))\n",
    "def f3(x):\n",
    "    return(math.cos(x))"
   ]
  },
  {
   "cell_type": "code",
   "execution_count": 4,
   "metadata": {},
   "outputs": [],
   "source": [
    "#复化左矩形公式\n",
    "def L(a,b,f,eps):\n",
    "    n=2\n",
    "    L_0=f(a)\n",
    "    L_1=(b-a)/2*(f(a)+f((a+b)/2))\n",
    "    while abs(L_1-L_0)>=eps:\n",
    "        n=n+1\n",
    "        L=0\n",
    "        for i in range(n):\n",
    "            L=L+f(a+i*(b-a)/n)\n",
    "        L_0=L_1\n",
    "        L_1=(b-a)/n*L\n",
    "    return n,L_1\n",
    "#复化中矩形公式\n",
    "def M(a,b,f,eps):\n",
    "    n=2\n",
    "    M_0=f((a+b)/2)\n",
    "    M_1=(b-a)/2*(f((3*a+b)/4)+f((a+3*b)/4))\n",
    "    while abs(M_1-M_0)>=eps:\n",
    "        n=n+1\n",
    "        M=0\n",
    "        for i in range(n):\n",
    "            M=M+f(a+(i+1/2)*(b-a)/n)\n",
    "        M_0=M_1\n",
    "        M_1=(b-a)/n*M\n",
    "    return n,M_1\n",
    "#复化右矩形公式\n",
    "def R(a,b,f,eps):\n",
    "    n=2\n",
    "    R_0=f(b)\n",
    "    R_1=(b-a)/2*(f(b)+f((a+b)/2))\n",
    "    while abs(R_1-R_0)>=eps:\n",
    "        n=n+1\n",
    "        R=0\n",
    "        for i in range(n):\n",
    "            R=R+f(a+(i+1)*(b-a)/n)\n",
    "        R_0=R_1\n",
    "        R_1=(b-a)/n*R\n",
    "    return n,R_1"
   ]
  },
  {
   "cell_type": "code",
   "execution_count": 5,
   "metadata": {},
   "outputs": [
    {
     "name": "stdout",
     "output_type": "stream",
     "text": [
      "对三个积分分别运用复化左矩形公式进行近似，所需的n和对应积分值为：\n"
     ]
    },
    {
     "data": {
      "text/plain": [
       "(4399, 0.6593738729262837)"
      ]
     },
     "execution_count": 5,
     "metadata": {},
     "output_type": "execute_result"
    },
    {
     "data": {
      "text/plain": [
       "(5161, 1.1184764015001798)"
      ]
     },
     "execution_count": 5,
     "metadata": {},
     "output_type": "execute_result"
    },
    {
     "data": {
      "text/plain": [
       "(8863, 1.000088612768127)"
      ]
     },
     "execution_count": 5,
     "metadata": {},
     "output_type": "execute_result"
    },
    {
     "name": "stdout",
     "output_type": "stream",
     "text": [
      "对三个积分分别运用复化右矩形公式进行近似，所需的n和对应积分值为：\n"
     ]
    },
    {
     "data": {
      "text/plain": [
       "(4399, 0.6592859387886628)"
      ]
     },
     "execution_count": 5,
     "metadata": {},
     "output_type": "execute_result"
    },
    {
     "data": {
      "text/plain": [
       "(5160, 1.1183732223868186)"
      ]
     },
     "execution_count": 5,
     "metadata": {},
     "output_type": "execute_result"
    },
    {
     "data": {
      "text/plain": [
       "(8864, 0.9999113919945595)"
      ]
     },
     "execution_count": 5,
     "metadata": {},
     "output_type": "execute_result"
    },
    {
     "name": "stdout",
     "output_type": "stream",
     "text": [
      "对三个积分分别运用复化中矩形公式进行近似，所需的n和对应积分值为：\n"
     ]
    },
    {
     "data": {
      "text/plain": [
       "(105, 0.6593304137267225)"
      ]
     },
     "execution_count": 5,
     "metadata": {},
     "output_type": "execute_result"
    },
    {
     "data": {
      "text/plain": [
       "(186, 1.118423893801091)"
      ]
     },
     "execution_count": 5,
     "metadata": {},
     "output_type": "execute_result"
    },
    {
     "data": {
      "text/plain": [
       "(275, 1.0000013594509356)"
      ]
     },
     "execution_count": 5,
     "metadata": {},
     "output_type": "execute_result"
    }
   ],
   "source": [
    "print(\"对三个积分分别运用复化左矩形公式进行近似，所需的n和对应积分值为：\")\n",
    "L(1,2,f1,1e-8)\n",
    "L(2,3,f2,1e-8)\n",
    "L(0,math.pi/2,f3,1e-8)\n",
    "print(\"对三个积分分别运用复化右矩形公式进行近似，所需的n和对应积分值为：\")\n",
    "R(1,2,f1,1e-8)\n",
    "R(2,3,f2,1e-8)\n",
    "R(0,math.pi/2,f3,1e-8)\n",
    "print(\"对三个积分分别运用复化中矩形公式进行近似，所需的n和对应积分值为：\")\n",
    "M(1,2,f1,1e-8)\n",
    "M(2,3,f2,1e-8)\n",
    "M(0,math.pi/2,f3,1e-8)"
   ]
  },
  {
   "cell_type": "code",
   "execution_count": null,
   "metadata": {},
   "outputs": [],
   "source": []
  }
 ],
 "metadata": {
  "kernelspec": {
   "display_name": "Python 3",
   "language": "python",
   "name": "python3"
  },
  "language_info": {
   "codemirror_mode": {
    "name": "ipython",
    "version": 3
   },
   "file_extension": ".py",
   "mimetype": "text/x-python",
   "name": "python",
   "nbconvert_exporter": "python",
   "pygments_lexer": "ipython3",
   "version": "3.7.3"
  },
  "toc": {
   "base_numbering": 1,
   "nav_menu": {},
   "number_sections": true,
   "sideBar": true,
   "skip_h1_title": false,
   "title_cell": "Table of Contents",
   "title_sidebar": "Contents",
   "toc_cell": false,
   "toc_position": {},
   "toc_section_display": true,
   "toc_window_display": false
  }
 },
 "nbformat": 4,
 "nbformat_minor": 2
}
