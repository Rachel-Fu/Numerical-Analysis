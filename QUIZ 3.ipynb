{
 "cells": [
  {
   "cell_type": "code",
   "execution_count": 4,
   "metadata": {},
   "outputs": [],
   "source": [
    "import math\n",
    "def f1(x):\n",
    "    return(math.sin(x)/x)\n",
    "def f2(x):\n",
    "    return(1/math.log(x))"
   ]
  },
  {
   "cell_type": "code",
   "execution_count": 45,
   "metadata": {},
   "outputs": [],
   "source": [
    "def ctf(a,b,f,eps):\n",
    "    n=1\n",
    "    T_0=(b-a)/2*(f(a)+f(b))\n",
    "    T_1=(T_0+(b-a)/n*f(a+(b-a)/(2*n)))/2\n",
    "    while abs(T_1-T_0)>=eps:\n",
    "        n=2*n\n",
    "        T_0=T_1\n",
    "        summ=0\n",
    "        for i in range(1,n+1):\n",
    "            summ+=f(a+(2*i-1)*(b-a)/(2*n))\n",
    "        T_1=(T_0+(b-a)/n*summ)/2\n",
    "    return n,T_1"
   ]
  },
  {
   "cell_type": "code",
   "execution_count": 46,
   "metadata": {},
   "outputs": [
    {
     "data": {
      "text/plain": [
       "(1024, 0.6593299037686189)"
      ]
     },
     "execution_count": 46,
     "metadata": {},
     "output_type": "execute_result"
    },
    {
     "data": {
      "text/plain": [
       "(4096, 1.118424815499036)"
      ]
     },
     "execution_count": 46,
     "metadata": {},
     "output_type": "execute_result"
    },
    {
     "data": {
      "text/plain": [
       "(4096, 0.9999999969360727)"
      ]
     },
     "execution_count": 46,
     "metadata": {},
     "output_type": "execute_result"
    }
   ],
   "source": [
    "#返回满足条件的n值和相应的积分值\n",
    "ctf(1,2,f1,1e-8)\n",
    "ctf(2,3,f2,1e-8)\n",
    "ctf(0,math.pi/2,math.cos,1e-8)"
   ]
  },
  {
   "cell_type": "code",
   "execution_count": 43,
   "metadata": {},
   "outputs": [],
   "source": [
    "def Simpson(a,b,f,eps):\n",
    "    T0=(b-a)/2*(f(a)+f(b))\n",
    "    T1=(T0+(b-a)*f((a+b)/2))/2\n",
    "    S0=(4*T1-T0)/3\n",
    "    n=2\n",
    "    T0=T1\n",
    "    T1=(T0+(b-a)/n*(f(a+(b-a)/(2*n))+f(a+3*(b-a)/(2*n))))/2\n",
    "    S1=(4*T1-T0)/3\n",
    "    while abs(S1-S0)>=eps:\n",
    "        n=2*n\n",
    "        T0=T1\n",
    "        S0=S1\n",
    "        summ=0\n",
    "        for i in range(1,n+1):\n",
    "            summ+=f(a+(2*i-1)*(b-a)/(2*n))\n",
    "        T1=(T0+(b-a)/n*summ)/2\n",
    "        S1=(4*T1-T0)/3\n",
    "    return n,S1"
   ]
  },
  {
   "cell_type": "code",
   "execution_count": 47,
   "metadata": {},
   "outputs": [
    {
     "data": {
      "text/plain": [
       "(16, 0.6593299067526367)"
      ]
     },
     "execution_count": 47,
     "metadata": {},
     "output_type": "execute_result"
    },
    {
     "data": {
      "text/plain": [
       "(64, 1.118424814666407)"
      ]
     },
     "execution_count": 47,
     "metadata": {},
     "output_type": "execute_result"
    },
    {
     "data": {
      "text/plain": [
       "(64, 1.0000000001260012)"
      ]
     },
     "execution_count": 47,
     "metadata": {},
     "output_type": "execute_result"
    }
   ],
   "source": [
    "#返回满足条件的n值和相应的积分值\n",
    "Simpson(1,2,f1,1e-8)\n",
    "Simpson(2,3,f2,1e-8)\n",
    "Simpson(0,math.pi/2,math.cos,1e-8)"
   ]
  }
 ],
 "metadata": {
  "kernelspec": {
   "display_name": "Python 3",
   "language": "python",
   "name": "python3"
  },
  "language_info": {
   "codemirror_mode": {
    "name": "ipython",
    "version": 3
   },
   "file_extension": ".py",
   "mimetype": "text/x-python",
   "name": "python",
   "nbconvert_exporter": "python",
   "pygments_lexer": "ipython3",
   "version": "3.7.3"
  },
  "toc": {
   "base_numbering": 1,
   "nav_menu": {},
   "number_sections": true,
   "sideBar": true,
   "skip_h1_title": false,
   "title_cell": "Table of Contents",
   "title_sidebar": "Contents",
   "toc_cell": false,
   "toc_position": {},
   "toc_section_display": true,
   "toc_window_display": false
  }
 },
 "nbformat": 4,
 "nbformat_minor": 2
}
