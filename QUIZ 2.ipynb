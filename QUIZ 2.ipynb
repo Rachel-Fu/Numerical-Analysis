{
 "cells": [
  {
   "cell_type": "code",
   "execution_count": 7,
   "metadata": {},
   "outputs": [],
   "source": [
    "import math\n",
    "import random\n",
    "import numpy as np\n",
    "from numpy.linalg import solve\n",
    "def f(x):\n",
    "    return math.exp(-x/4)"
   ]
  },
  {
   "cell_type": "code",
   "execution_count": 17,
   "metadata": {},
   "outputs": [],
   "source": [
    "x=[0.6*i for i in range (6)]\n",
    "y=[f(x[i]) for i in range (6)]\n",
    "h=0.6\n",
    "lam=0.5\n",
    "mu=[]\n",
    "for i in range(1,len(y)-1):\n",
    "    mu.append((1-lam)/h*(y[i]-y[i-1])+lam/h*(y[i+1]-y[i]))\n",
    "#使用D1型三次样条插值\n",
    "m_0=-1/4*f(0)\n",
    "m_n=-1/4*f(3)\n",
    "mu[0]=mu[0]-(1-lam)*m_0\n",
    "mu[-1]=mu[-1]-(1-lam)*m_n"
   ]
  },
  {
   "cell_type": "code",
   "execution_count": 38,
   "metadata": {},
   "outputs": [
    {
     "data": {
      "text/plain": [
       "[-0.25,\n",
       " -0.027444991962964054,\n",
       " -0.0721896643452807,\n",
       " -0.055596058661387275,\n",
       " -0.0254370753219892,\n",
       " -0.11809163818525367]"
      ]
     },
     "execution_count": 38,
     "metadata": {},
     "output_type": "execute_result"
    }
   ],
   "source": [
    "a=np.mat([[2,lam,0,0],[1-lam,2,lam,0],[0,1-lam,2,lam],[0,0,1-lam,2]])#系数矩阵\n",
    "b=np.mat(mu).T    #常数项列矩阵\n",
    "m=solve(a,b).A    #方程组的解,即m\n",
    "m=[m[i][0] for i in range(4)]\n",
    "m.insert(0,m_0)\n",
    "m.append(m_n)\n",
    "m"
   ]
  },
  {
   "cell_type": "code",
   "execution_count": 43,
   "metadata": {},
   "outputs": [],
   "source": [
    "def S(t):\n",
    "    for i in range(5):\n",
    "        if t>=x[i] and t<=x[i+1]:\n",
    "            break\n",
    "    S=y[i]*(3*(x[i+1]-t)**2/h**2-2*(x[i+1]-t)**3/h**3)+y[i+1]*(3*(t-x[i])**2/h**2-2*(t-x[i])**3/h**3)+m[i]*((x[i+1]-t)**2/h-(x[i+1]-t)**3/h**2)-m[i+1]*((t-x[i])**2/h-(t-x[i])**3/h**2)\n",
    "    return S"
   ]
  },
  {
   "cell_type": "code",
   "execution_count": 45,
   "metadata": {},
   "outputs": [
    {
     "data": {
      "text/plain": [
       "[0.0, 0.5, 1.0, 1.5, 2.0, 2.5, 3.0]"
      ]
     },
     "execution_count": 45,
     "metadata": {},
     "output_type": "execute_result"
    },
    {
     "data": {
      "text/plain": [
       "[-4.440892098500626e-16,\n",
       " 0.013037318489891758,\n",
       " 0.0017029514905574361,\n",
       " -0.0006893869344810621,\n",
       " -0.0042596526833927895,\n",
       " -0.007761306885581298,\n",
       " 2.220446049250313e-16]"
      ]
     },
     "execution_count": 45,
     "metadata": {},
     "output_type": "execute_result"
    }
   ],
   "source": [
    "xx=[0.5*i for i in range (7)]\n",
    "xx\n",
    "err=[f(xx[i])-S(xx[i]) for i in range(7)]\n",
    "err"
   ]
  }
 ],
 "metadata": {
  "kernelspec": {
   "display_name": "Python 3",
   "language": "python",
   "name": "python3"
  },
  "language_info": {
   "codemirror_mode": {
    "name": "ipython",
    "version": 3
   },
   "file_extension": ".py",
   "mimetype": "text/x-python",
   "name": "python",
   "nbconvert_exporter": "python",
   "pygments_lexer": "ipython3",
   "version": "3.6.2"
  },
  "toc": {
   "base_numbering": 1,
   "nav_menu": {},
   "number_sections": true,
   "sideBar": true,
   "skip_h1_title": false,
   "title_cell": "Table of Contents",
   "title_sidebar": "Contents",
   "toc_cell": false,
   "toc_position": {},
   "toc_section_display": true,
   "toc_window_display": false
  }
 },
 "nbformat": 4,
 "nbformat_minor": 2
}
